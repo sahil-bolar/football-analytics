{
 "cells": [
  {
   "cell_type": "code",
   "execution_count": 14,
   "metadata": {},
   "outputs": [],
   "source": [
    "import pandas as pd\n",
    "import numpy as np\n",
    "import seaborn as sns\n",
    "import matplotlib.pyplot as plt\n",
    "import random\n"
   ]
  },
  {
   "cell_type": "code",
   "execution_count": 5,
   "metadata": {},
   "outputs": [
    {
     "name": "stderr",
     "output_type": "stream",
     "text": [
      "/var/folders/5p/7rl6w2q54h71cb6zlvtpc8m00000gp/T/ipykernel_82968/3982721977.py:3: DtypeWarning: Columns (36,37,179,180,189,190,197,198,203,204,205,206,213,214,218,219,220,222,224,226,248,249,253,254,255,260,262,263,266,267,268,269,283,284) have mixed types. Specify dtype option on import or set low_memory=False.\n",
      "  df_tmp = pd.read_csv(f'https://github.com/nflverse/nflverse-data/releases/download/pbp/play_by_play_{YEAR}.csv')\n",
      "/var/folders/5p/7rl6w2q54h71cb6zlvtpc8m00000gp/T/ipykernel_82968/3982721977.py:3: DtypeWarning: Columns (37,45,179,180,182,183,189,190,193,194,197,198,203,204,205,206,218,219,220,248,249,253,254,255,260,262,263,283,284) have mixed types. Specify dtype option on import or set low_memory=False.\n",
      "  df_tmp = pd.read_csv(f'https://github.com/nflverse/nflverse-data/releases/download/pbp/play_by_play_{YEAR}.csv')\n",
      "/var/folders/5p/7rl6w2q54h71cb6zlvtpc8m00000gp/T/ipykernel_82968/3982721977.py:3: DtypeWarning: Columns (37,179,180,182,183,189,190,193,194,197,198,203,204,205,206,209,210,213,214,218,219,220,248,249,253,254,255,260,262,263,266,267,268,269,283,284,301) have mixed types. Specify dtype option on import or set low_memory=False.\n",
      "  df_tmp = pd.read_csv(f'https://github.com/nflverse/nflverse-data/releases/download/pbp/play_by_play_{YEAR}.csv')\n",
      "/var/folders/5p/7rl6w2q54h71cb6zlvtpc8m00000gp/T/ipykernel_82968/3982721977.py:3: DtypeWarning: Columns (37,45,179,180,182,183,189,190,193,194,197,198,203,204,205,206,209,210,218,219,220,248,249,253,254,255,260,262,263,283,284,301) have mixed types. Specify dtype option on import or set low_memory=False.\n",
      "  df_tmp = pd.read_csv(f'https://github.com/nflverse/nflverse-data/releases/download/pbp/play_by_play_{YEAR}.csv')\n",
      "/var/folders/5p/7rl6w2q54h71cb6zlvtpc8m00000gp/T/ipykernel_82968/3982721977.py:3: DtypeWarning: Columns (37,45,179,180,189,190,193,194,197,198,203,204,205,206,218,219,220,248,249,253,254,255,260,262,263,283,284,301) have mixed types. Specify dtype option on import or set low_memory=False.\n",
      "  df_tmp = pd.read_csv(f'https://github.com/nflverse/nflverse-data/releases/download/pbp/play_by_play_{YEAR}.csv')\n",
      "/var/folders/5p/7rl6w2q54h71cb6zlvtpc8m00000gp/T/ipykernel_82968/3982721977.py:3: DtypeWarning: Columns (37,45,179,180,189,190,193,194,197,198,203,204,205,206,209,210,213,214,218,219,220,248,249,253,254,255,260,262,263,266,267,268,269,283,284,301) have mixed types. Specify dtype option on import or set low_memory=False.\n",
      "  df_tmp = pd.read_csv(f'https://github.com/nflverse/nflverse-data/releases/download/pbp/play_by_play_{YEAR}.csv')\n",
      "/var/folders/5p/7rl6w2q54h71cb6zlvtpc8m00000gp/T/ipykernel_82968/3982721977.py:3: DtypeWarning: Columns (37,45,179,180,182,183,189,190,193,194,197,198,203,204,205,206,207,208,211,212,213,214,218,219,220,248,249,253,254,255,260,262,263,266,267,268,269,283,284,294,295,301) have mixed types. Specify dtype option on import or set low_memory=False.\n",
      "  df_tmp = pd.read_csv(f'https://github.com/nflverse/nflverse-data/releases/download/pbp/play_by_play_{YEAR}.csv')\n",
      "/var/folders/5p/7rl6w2q54h71cb6zlvtpc8m00000gp/T/ipykernel_82968/3982721977.py:3: DtypeWarning: Columns (42,44,45,50,51,52,179,180,182,183,187,188,189,190,193,194,195,196,197,198,201,202,203,204,205,206,207,208,213,214,215,216,217,218,219,220,222,224,226,240,241,242,248,249,250,251,252,253,254,255,256,258,259,260,262,263,264,265,266,267,268,269,277,283,284,295,301) have mixed types. Specify dtype option on import or set low_memory=False.\n",
      "  df_tmp = pd.read_csv(f'https://github.com/nflverse/nflverse-data/releases/download/pbp/play_by_play_{YEAR}.csv')\n",
      "/var/folders/5p/7rl6w2q54h71cb6zlvtpc8m00000gp/T/ipykernel_82968/3982721977.py:3: DtypeWarning: Columns (45,179,180,182,183,189,190,193,194,197,198,203,204,205,206,207,208,218,219,220,248,249,253,254,255,260,262,263,283,284,294,295,301) have mixed types. Specify dtype option on import or set low_memory=False.\n",
      "  df_tmp = pd.read_csv(f'https://github.com/nflverse/nflverse-data/releases/download/pbp/play_by_play_{YEAR}.csv')\n",
      "/var/folders/5p/7rl6w2q54h71cb6zlvtpc8m00000gp/T/ipykernel_82968/3982721977.py:3: DtypeWarning: Columns (45,179,180,182,183,189,190,193,194,197,198,203,204,205,206,209,210,218,219,220,248,249,253,254,255,260,262,263,283,284,295,301) have mixed types. Specify dtype option on import or set low_memory=False.\n",
      "  df_tmp = pd.read_csv(f'https://github.com/nflverse/nflverse-data/releases/download/pbp/play_by_play_{YEAR}.csv')\n",
      "/var/folders/5p/7rl6w2q54h71cb6zlvtpc8m00000gp/T/ipykernel_82968/3982721977.py:3: DtypeWarning: Columns (45,179,180,189,190,193,194,197,198,203,204,205,206,213,214,218,219,220,222,224,226,248,249,253,254,255,260,262,263,266,267,268,269,283,284,295,301) have mixed types. Specify dtype option on import or set low_memory=False.\n",
      "  df_tmp = pd.read_csv(f'https://github.com/nflverse/nflverse-data/releases/download/pbp/play_by_play_{YEAR}.csv')\n",
      "/var/folders/5p/7rl6w2q54h71cb6zlvtpc8m00000gp/T/ipykernel_82968/3982721977.py:3: DtypeWarning: Columns (45,179,180,182,183,189,190,193,194,197,198,203,204,205,206,218,219,220,248,249,253,254,255,260,262,263,283,284,294,295,301) have mixed types. Specify dtype option on import or set low_memory=False.\n",
      "  df_tmp = pd.read_csv(f'https://github.com/nflverse/nflverse-data/releases/download/pbp/play_by_play_{YEAR}.csv')\n",
      "/var/folders/5p/7rl6w2q54h71cb6zlvtpc8m00000gp/T/ipykernel_82968/3982721977.py:3: DtypeWarning: Columns (45,179,180,182,183,189,190,193,194,197,198,203,204,205,206,209,210,213,214,218,219,220,253,254,255,260,262,263,283,284,294,295,301) have mixed types. Specify dtype option on import or set low_memory=False.\n",
      "  df_tmp = pd.read_csv(f'https://github.com/nflverse/nflverse-data/releases/download/pbp/play_by_play_{YEAR}.csv')\n",
      "/var/folders/5p/7rl6w2q54h71cb6zlvtpc8m00000gp/T/ipykernel_82968/3982721977.py:3: DtypeWarning: Columns (179,180,182,183,189,190,193,194,197,198,203,204,205,206,218,219,220,248,249,253,254,255,260,262,263,283,284,294,295,301) have mixed types. Specify dtype option on import or set low_memory=False.\n",
      "  df_tmp = pd.read_csv(f'https://github.com/nflverse/nflverse-data/releases/download/pbp/play_by_play_{YEAR}.csv')\n",
      "/var/folders/5p/7rl6w2q54h71cb6zlvtpc8m00000gp/T/ipykernel_82968/3982721977.py:3: DtypeWarning: Columns (45,179,180,182,183,193,194,197,198,203,204,205,206,209,210,218,219,220,253,254,255,260,262,263,283,284,294,295,301) have mixed types. Specify dtype option on import or set low_memory=False.\n",
      "  df_tmp = pd.read_csv(f'https://github.com/nflverse/nflverse-data/releases/download/pbp/play_by_play_{YEAR}.csv')\n",
      "/var/folders/5p/7rl6w2q54h71cb6zlvtpc8m00000gp/T/ipykernel_82968/3982721977.py:3: DtypeWarning: Columns (45,179,180,182,183,189,190,193,194,197,198,203,204,218,219,220,248,249,253,254,255,260,262,263,283,284,294,295,301) have mixed types. Specify dtype option on import or set low_memory=False.\n",
      "  df_tmp = pd.read_csv(f'https://github.com/nflverse/nflverse-data/releases/download/pbp/play_by_play_{YEAR}.csv')\n",
      "/var/folders/5p/7rl6w2q54h71cb6zlvtpc8m00000gp/T/ipykernel_82968/3982721977.py:3: DtypeWarning: Columns (45,179,180,182,183,189,190,193,194,197,198,203,204,205,206,218,219,220,233,234,235,236,237,238,248,249,253,254,255,260,262,263,283,284,301) have mixed types. Specify dtype option on import or set low_memory=False.\n",
      "  df_tmp = pd.read_csv(f'https://github.com/nflverse/nflverse-data/releases/download/pbp/play_by_play_{YEAR}.csv')\n",
      "/var/folders/5p/7rl6w2q54h71cb6zlvtpc8m00000gp/T/ipykernel_82968/3982721977.py:3: DtypeWarning: Columns (179,180,182,183,189,190,193,194,197,198,203,204,205,206,209,210,218,219,220,248,249,253,254,255,260,262,263,283,284,301) have mixed types. Specify dtype option on import or set low_memory=False.\n",
      "  df_tmp = pd.read_csv(f'https://github.com/nflverse/nflverse-data/releases/download/pbp/play_by_play_{YEAR}.csv')\n",
      "/var/folders/5p/7rl6w2q54h71cb6zlvtpc8m00000gp/T/ipykernel_82968/3982721977.py:3: DtypeWarning: Columns (179,180,182,183,189,190,193,194,197,198,203,204,205,206,213,214,218,219,220,253,254,255,260,262,263,266,267,268,269,283,284,301) have mixed types. Specify dtype option on import or set low_memory=False.\n",
      "  df_tmp = pd.read_csv(f'https://github.com/nflverse/nflverse-data/releases/download/pbp/play_by_play_{YEAR}.csv')\n",
      "/var/folders/5p/7rl6w2q54h71cb6zlvtpc8m00000gp/T/ipykernel_82968/3982721977.py:3: DtypeWarning: Columns (179,180,182,183,193,194,197,198,203,204,205,206,218,219,220,248,249,253,254,255,260,262,263,283,284,301) have mixed types. Specify dtype option on import or set low_memory=False.\n",
      "  df_tmp = pd.read_csv(f'https://github.com/nflverse/nflverse-data/releases/download/pbp/play_by_play_{YEAR}.csv')\n",
      "/var/folders/5p/7rl6w2q54h71cb6zlvtpc8m00000gp/T/ipykernel_82968/3982721977.py:3: DtypeWarning: Columns (179,180,182,183,189,190,193,194,197,198,203,204,205,206,209,210,218,219,220,233,234,235,236,237,238,253,254,255,260,262,263,283,284,301) have mixed types. Specify dtype option on import or set low_memory=False.\n",
      "  df_tmp = pd.read_csv(f'https://github.com/nflverse/nflverse-data/releases/download/pbp/play_by_play_{YEAR}.csv')\n",
      "/var/folders/5p/7rl6w2q54h71cb6zlvtpc8m00000gp/T/ipykernel_82968/3982721977.py:3: DtypeWarning: Columns (179,180,182,183,189,190,193,194,197,198,203,204,205,206,213,214,218,219,220,222,224,226,248,249,253,254,255,260,262,263,266,267,268,269,283,284,301) have mixed types. Specify dtype option on import or set low_memory=False.\n",
      "  df_tmp = pd.read_csv(f'https://github.com/nflverse/nflverse-data/releases/download/pbp/play_by_play_{YEAR}.csv')\n",
      "/var/folders/5p/7rl6w2q54h71cb6zlvtpc8m00000gp/T/ipykernel_82968/3982721977.py:3: DtypeWarning: Columns (179,180,182,183,189,190,193,194,197,198,203,204,205,206,218,219,220,233,234,235,236,237,238,248,249,253,254,255,260,262,263,283,284,301) have mixed types. Specify dtype option on import or set low_memory=False.\n",
      "  df_tmp = pd.read_csv(f'https://github.com/nflverse/nflverse-data/releases/download/pbp/play_by_play_{YEAR}.csv')\n",
      "/var/folders/5p/7rl6w2q54h71cb6zlvtpc8m00000gp/T/ipykernel_82968/3982721977.py:3: DtypeWarning: Columns (179,180,182,183,189,190,193,194,197,198,203,204,205,206,218,219,220,222,224,226,243,244,245,253,254,255,260,262,263,283,284,301) have mixed types. Specify dtype option on import or set low_memory=False.\n",
      "  df_tmp = pd.read_csv(f'https://github.com/nflverse/nflverse-data/releases/download/pbp/play_by_play_{YEAR}.csv')\n",
      "/var/folders/5p/7rl6w2q54h71cb6zlvtpc8m00000gp/T/ipykernel_82968/3982721977.py:3: DtypeWarning: Columns (45,179,180,182,183,189,190,197,198,203,204,205,206,218,219,220,222,224,226,253,254,255,260,262,263,283,284,332) have mixed types. Specify dtype option on import or set low_memory=False.\n",
      "  df_tmp = pd.read_csv(f'https://github.com/nflverse/nflverse-data/releases/download/pbp/play_by_play_{YEAR}.csv')\n"
     ]
    }
   ],
   "source": [
    "df = pd.DataFrame()\n",
    "for YEAR in range(1999, 2024):\n",
    "    df_tmp = pd.read_csv(f'https://github.com/nflverse/nflverse-data/releases/download/pbp/play_by_play_{YEAR}.csv')\n",
    "    df_tmp['year'] = YEAR\n",
    "    df = pd.concat([df, df_tmp], axis=0)"
   ]
  },
  {
   "cell_type": "markdown",
   "metadata": {},
   "source": [
    "# Estimate joint distribution of winning score, losing score\n",
    "- lol nvm this gave me wacky results"
   ]
  },
  {
   "cell_type": "markdown",
   "metadata": {},
   "source": [
    "## Find points per drive PMF for SF + KC\n",
    "- Count drive as either TD, FG, or zero\n",
    "- turnovers are part of the \"zero\" category; we will ignore field position, pick-6 / fumble TD\n",
    "- TODO: exponentially weight more recent games?"
   ]
  },
  {
   "cell_type": "code",
   "execution_count": 181,
   "metadata": {},
   "outputs": [
    {
     "data": {
      "text/plain": [
       "array([ 1,  2,  3,  4,  5,  6,  7,  8,  9, 10, 11, 12, 13, 14, 15, 16, 17,\n",
       "       18, 19, 20, 21, 22])"
      ]
     },
     "execution_count": 181,
     "metadata": {},
     "output_type": "execute_result"
    }
   ],
   "source": [
    "df['week'].unique()"
   ]
  },
  {
   "cell_type": "code",
   "execution_count": 201,
   "metadata": {},
   "outputs": [],
   "source": [
    "f = df['year'] == 2023\n",
    "f = f & (df['posteam'] == 'SF')\n",
    "\n",
    "df_sf = df[f]\n",
    "df_sf = df_sf \\\n",
    "    .assign(\n",
    "        drive_pts = lambda d: np.where(\n",
    "            d['fixed_drive_result'] == 'Touchdown', 7, \n",
    "            np.where(d['fixed_drive_result'] == 'Field goal', 3, 0)),\n",
    "        weight = lambda d: np.exp((d['week'] - 21) / 20)\n",
    "            ) \\\n",
    "    .groupby(['game_id', 'drive']).agg({'drive_pts': max, 'weight': max}).reset_index() \\\n",
    "    .groupby('drive_pts').agg(sum).reset_index() \\\n",
    "    [['drive_pts', 'weight']] \\\n",
    "    .assign(freq = lambda d: d['weight'] / d['weight'].sum())"
   ]
  },
  {
   "cell_type": "code",
   "execution_count": 202,
   "metadata": {},
   "outputs": [
    {
     "data": {
      "text/html": [
       "<div>\n",
       "<style scoped>\n",
       "    .dataframe tbody tr th:only-of-type {\n",
       "        vertical-align: middle;\n",
       "    }\n",
       "\n",
       "    .dataframe tbody tr th {\n",
       "        vertical-align: top;\n",
       "    }\n",
       "\n",
       "    .dataframe thead th {\n",
       "        text-align: right;\n",
       "    }\n",
       "</style>\n",
       "<table border=\"1\" class=\"dataframe\">\n",
       "  <thead>\n",
       "    <tr style=\"text-align: right;\">\n",
       "      <th></th>\n",
       "      <th>drive_pts</th>\n",
       "      <th>weight</th>\n",
       "      <th>freq</th>\n",
       "    </tr>\n",
       "  </thead>\n",
       "  <tbody>\n",
       "    <tr>\n",
       "      <th>0</th>\n",
       "      <td>0</td>\n",
       "      <td>67.602963</td>\n",
       "      <td>0.546678</td>\n",
       "    </tr>\n",
       "    <tr>\n",
       "      <th>1</th>\n",
       "      <td>3</td>\n",
       "      <td>14.087467</td>\n",
       "      <td>0.113920</td>\n",
       "    </tr>\n",
       "    <tr>\n",
       "      <th>2</th>\n",
       "      <td>7</td>\n",
       "      <td>41.970888</td>\n",
       "      <td>0.339402</td>\n",
       "    </tr>\n",
       "  </tbody>\n",
       "</table>\n",
       "</div>"
      ],
      "text/plain": [
       "   drive_pts     weight      freq\n",
       "0          0  67.602963  0.546678\n",
       "1          3  14.087467  0.113920\n",
       "2          7  41.970888  0.339402"
      ]
     },
     "execution_count": 202,
     "metadata": {},
     "output_type": "execute_result"
    }
   ],
   "source": [
    "df_sf"
   ]
  },
  {
   "cell_type": "code",
   "execution_count": 199,
   "metadata": {},
   "outputs": [],
   "source": [
    "f = df['year'] == 2023\n",
    "f = f & (df['posteam'] == 'KC')\n",
    "\n",
    "df_kc = df[f]\n",
    "df_kc = df_kc \\\n",
    "    .assign(\n",
    "        drive_pts = lambda d: np.where(\n",
    "            d['fixed_drive_result'] == 'Touchdown', 7, \n",
    "            np.where(d['fixed_drive_result'] == 'Field goal', 3, 0)),\n",
    "        weight = lambda d: np.exp((d['week'] - 21) / 20)\n",
    "            ) \\\n",
    "    .groupby(['game_id', 'drive']).agg({'drive_pts': max, 'weight': max}).reset_index() \\\n",
    "    .groupby('drive_pts').agg(sum).reset_index() \\\n",
    "    [['drive_pts', 'weight']] \\\n",
    "    .assign(freq = lambda d: d['weight'] / d['weight'].sum())"
   ]
  },
  {
   "cell_type": "code",
   "execution_count": 200,
   "metadata": {},
   "outputs": [
    {
     "data": {
      "text/html": [
       "<div>\n",
       "<style scoped>\n",
       "    .dataframe tbody tr th:only-of-type {\n",
       "        vertical-align: middle;\n",
       "    }\n",
       "\n",
       "    .dataframe tbody tr th {\n",
       "        vertical-align: top;\n",
       "    }\n",
       "\n",
       "    .dataframe thead th {\n",
       "        text-align: right;\n",
       "    }\n",
       "</style>\n",
       "<table border=\"1\" class=\"dataframe\">\n",
       "  <thead>\n",
       "    <tr style=\"text-align: right;\">\n",
       "      <th></th>\n",
       "      <th>drive_pts</th>\n",
       "      <th>weight</th>\n",
       "      <th>freq</th>\n",
       "    </tr>\n",
       "  </thead>\n",
       "  <tbody>\n",
       "    <tr>\n",
       "      <th>0</th>\n",
       "      <td>0</td>\n",
       "      <td>79.713370</td>\n",
       "      <td>0.600315</td>\n",
       "    </tr>\n",
       "    <tr>\n",
       "      <th>1</th>\n",
       "      <td>3</td>\n",
       "      <td>25.995463</td>\n",
       "      <td>0.195770</td>\n",
       "    </tr>\n",
       "    <tr>\n",
       "      <th>2</th>\n",
       "      <td>7</td>\n",
       "      <td>27.076977</td>\n",
       "      <td>0.203915</td>\n",
       "    </tr>\n",
       "  </tbody>\n",
       "</table>\n",
       "</div>"
      ],
      "text/plain": [
       "   drive_pts     weight      freq\n",
       "0          0  79.713370  0.600315\n",
       "1          3  25.995463  0.195770\n",
       "2          7  27.076977  0.203915"
      ]
     },
     "execution_count": 200,
     "metadata": {},
     "output_type": "execute_result"
    }
   ],
   "source": [
    "df_kc"
   ]
  },
  {
   "cell_type": "code",
   "execution_count": 95,
   "metadata": {},
   "outputs": [
    {
     "data": {
      "text/html": [
       "<div>\n",
       "<style scoped>\n",
       "    .dataframe tbody tr th:only-of-type {\n",
       "        vertical-align: middle;\n",
       "    }\n",
       "\n",
       "    .dataframe tbody tr th {\n",
       "        vertical-align: top;\n",
       "    }\n",
       "\n",
       "    .dataframe thead th {\n",
       "        text-align: right;\n",
       "    }\n",
       "</style>\n",
       "<table border=\"1\" class=\"dataframe\">\n",
       "  <thead>\n",
       "    <tr style=\"text-align: right;\">\n",
       "      <th></th>\n",
       "      <th>drive</th>\n",
       "      <th>freq</th>\n",
       "    </tr>\n",
       "  </thead>\n",
       "  <tbody>\n",
       "    <tr>\n",
       "      <th>0</th>\n",
       "      <td>6.0</td>\n",
       "      <td>0.007042</td>\n",
       "    </tr>\n",
       "    <tr>\n",
       "      <th>1</th>\n",
       "      <td>7.0</td>\n",
       "      <td>0.014085</td>\n",
       "    </tr>\n",
       "    <tr>\n",
       "      <th>2</th>\n",
       "      <td>8.0</td>\n",
       "      <td>0.031690</td>\n",
       "    </tr>\n",
       "    <tr>\n",
       "      <th>3</th>\n",
       "      <td>9.0</td>\n",
       "      <td>0.123239</td>\n",
       "    </tr>\n",
       "    <tr>\n",
       "      <th>4</th>\n",
       "      <td>10.0</td>\n",
       "      <td>0.278169</td>\n",
       "    </tr>\n",
       "    <tr>\n",
       "      <th>5</th>\n",
       "      <td>11.0</td>\n",
       "      <td>0.260563</td>\n",
       "    </tr>\n",
       "    <tr>\n",
       "      <th>6</th>\n",
       "      <td>12.0</td>\n",
       "      <td>0.137324</td>\n",
       "    </tr>\n",
       "    <tr>\n",
       "      <th>7</th>\n",
       "      <td>13.0</td>\n",
       "      <td>0.080986</td>\n",
       "    </tr>\n",
       "    <tr>\n",
       "      <th>8</th>\n",
       "      <td>14.0</td>\n",
       "      <td>0.045775</td>\n",
       "    </tr>\n",
       "    <tr>\n",
       "      <th>9</th>\n",
       "      <td>15.0</td>\n",
       "      <td>0.010563</td>\n",
       "    </tr>\n",
       "    <tr>\n",
       "      <th>10</th>\n",
       "      <td>16.0</td>\n",
       "      <td>0.003521</td>\n",
       "    </tr>\n",
       "    <tr>\n",
       "      <th>11</th>\n",
       "      <td>17.0</td>\n",
       "      <td>0.007042</td>\n",
       "    </tr>\n",
       "  </tbody>\n",
       "</table>\n",
       "</div>"
      ],
      "text/plain": [
       "    drive      freq\n",
       "0     6.0  0.007042\n",
       "1     7.0  0.014085\n",
       "2     8.0  0.031690\n",
       "3     9.0  0.123239\n",
       "4    10.0  0.278169\n",
       "5    11.0  0.260563\n",
       "6    12.0  0.137324\n",
       "7    13.0  0.080986\n",
       "8    14.0  0.045775\n",
       "9    15.0  0.010563\n",
       "10   16.0  0.003521\n",
       "11   17.0  0.007042"
      ]
     },
     "execution_count": 95,
     "metadata": {},
     "output_type": "execute_result"
    }
   ],
   "source": [
    "f = df['year'] == 2023\n",
    "drive_pmf = df[f].groupby(['game_id']).agg({'drive': max}).assign(drive = lambda d: d['drive'] // 2).reset_index()\n",
    "# drive_pmf.plot(kind='hist')\n",
    "drive_pmf = drive_pmf.groupby('drive').agg('count').reset_index().assign(freq = lambda d: d['game_id'] / sum(d['game_id']))[['drive', 'freq']]\n",
    "drive_pmf"
   ]
  },
  {
   "cell_type": "code",
   "execution_count": 203,
   "metadata": {},
   "outputs": [],
   "source": [
    "[p_zero, p_fg, p_td] = df_sf.sort_values('drive_pts')['freq'].tolist()\n",
    "sf_pmf = [p_zero, 0, 0, p_fg, 0, 0, 0, p_td]\n",
    "\n",
    "[p_zero, p_fg, p_td] = df_kc.sort_values('drive_pts')['freq'].tolist()\n",
    "kc_pmf = [p_zero, 0, 0, p_fg, 0, 0, 0, p_td]"
   ]
  },
  {
   "cell_type": "code",
   "execution_count": 204,
   "metadata": {},
   "outputs": [
    {
     "data": {
      "text/plain": [
       "Text(0.5, 0, 'Score')"
      ]
     },
     "execution_count": 204,
     "metadata": {},
     "output_type": "execute_result"
    },
    {
     "data": {
      "image/png": "[encoded data removed]",
      "text/plain": [
       "<Figure size 640x480 with 1 Axes>"
      ]
     },
     "metadata": {},
     "output_type": "display_data"
    }
   ],
   "source": [
    "# What does SF's score tend to look like after two drive?\n",
    "sf_pmf_2 = np.convolve(sf_pmf, sf_pmf)\n",
    "plt.bar(np.arange(len(sf_pmf_2)), sf_pmf_2)\n",
    "plt.ylabel('Probability')\n",
    "plt.xlabel('Score')"
   ]
  },
  {
   "cell_type": "code",
   "execution_count": 71,
   "metadata": {},
   "outputs": [],
   "source": [
    "def convolve_n(pmf, n):\n",
    "    pmf_new = pmf\n",
    "    for _ in range(n):\n",
    "        pmf_new = np.convolve(pmf_new, pmf)\n",
    "    return pmf_new"
   ]
  },
  {
   "cell_type": "code",
   "execution_count": 205,
   "metadata": {},
   "outputs": [],
   "source": [
    "sf_pmf_10 = convolve_n(sf_pmf, 10)\n",
    "kc_pmf_10 = convolve_n(kc_pmf, 10)"
   ]
  },
  {
   "cell_type": "code",
   "execution_count": 206,
   "metadata": {},
   "outputs": [
    {
     "data": {
      "image/png": "[encoded data removed]",
      "text/plain": [
       "<Figure size 640x480 with 1 Axes>"
      ]
     },
     "metadata": {},
     "output_type": "display_data"
    }
   ],
   "source": [
    "plt.bar(np.arange(len(sf_pmf_10)), sf_pmf_10, alpha=0.5, color='#B3995D', label='SF')\n",
    "plt.bar(np.arange(len(kc_pmf_10)), kc_pmf_10, alpha=0.5, color='#E31837', label='KC')\n",
    "plt.title('PMF, 10 drives each')\n",
    "plt.xlabel('Score')\n",
    "plt.legend();"
   ]
  },
  {
   "cell_type": "markdown",
   "metadata": {},
   "source": [
    "### Central Limit Theorem side tangent lol "
   ]
  },
  {
   "cell_type": "code",
   "execution_count": 207,
   "metadata": {},
   "outputs": [
    {
     "data": {
      "image/png": "[encoded data removed]",
      "text/plain": [
       "<Figure size 640x480 with 1 Axes>"
      ]
     },
     "metadata": {},
     "output_type": "display_data"
    }
   ],
   "source": [
    "sf_pmf_30 = convolve_n(sf_pmf, 30)\n",
    "kc_pmf_30 = convolve_n(kc_pmf, 30)\n",
    "\n",
    "plt.bar(np.arange(len(sf_pmf_30)), sf_pmf_30, alpha=0.5, color='#B3995D', label='SF')\n",
    "plt.bar(np.arange(len(kc_pmf_30)), kc_pmf_30, alpha=0.5, color='#E31837', label='KC')\n",
    "plt.title('PMF, 30 drives each')\n",
    "plt.xlabel('Score')\n",
    "plt.legend();"
   ]
  },
  {
   "cell_type": "code",
   "execution_count": 208,
   "metadata": {},
   "outputs": [
    {
     "data": {
      "image/png": "[encoded data removed]",
      "text/plain": [
       "<Figure size 640x480 with 1 Axes>"
      ]
     },
     "metadata": {},
     "output_type": "display_data"
    }
   ],
   "source": [
    "sf_pmf_100 = convolve_n(sf_pmf, 100)\n",
    "kc_pmf_100 = convolve_n(kc_pmf, 100)\n",
    "\n",
    "plt.bar(np.arange(len(sf_pmf_100)), sf_pmf_100, alpha=0.5, color='#B3995D', label='SF')\n",
    "plt.bar(np.arange(len(kc_pmf_100)), kc_pmf_100, alpha=0.5, color='#E31837', label='KC')\n",
    "plt.title('PMF, 100 drives each')\n",
    "plt.xlabel('Score')\n",
    "plt.legend();"
   ]
  },
  {
   "cell_type": "markdown",
   "metadata": {},
   "source": [
    "## How many points do we expect each team to score given # of drives?"
   ]
  },
  {
   "cell_type": "code",
   "execution_count": 209,
   "metadata": {},
   "outputs": [],
   "source": [
    "sf_pmf_n = {}\n",
    "kc_pmf_n = {}\n",
    "for n_drives in drive_pmf['drive']:\n",
    "    n = int(n_drives)\n",
    "    sf_pmf_n[n] = convolve_n(sf_pmf, n)\n",
    "    kc_pmf_n[n] = convolve_n(kc_pmf, n)"
   ]
  },
  {
   "cell_type": "markdown",
   "metadata": {},
   "source": [
    "### How much to add on for overtime?\n",
    "- kinda rough estimation, yes ik playoff OT rules are different oh well"
   ]
  },
  {
   "cell_type": "code",
   "execution_count": 210,
   "metadata": {},
   "outputs": [
    {
     "data": {
      "text/html": [
       "<div>\n",
       "<style scoped>\n",
       "    .dataframe tbody tr th:only-of-type {\n",
       "        vertical-align: middle;\n",
       "    }\n",
       "\n",
       "    .dataframe tbody tr th {\n",
       "        vertical-align: top;\n",
       "    }\n",
       "\n",
       "    .dataframe thead th {\n",
       "        text-align: right;\n",
       "    }\n",
       "</style>\n",
       "<table border=\"1\" class=\"dataframe\">\n",
       "  <thead>\n",
       "    <tr style=\"text-align: right;\">\n",
       "      <th></th>\n",
       "      <th>game_id</th>\n",
       "      <th>home_score</th>\n",
       "      <th>away_score</th>\n",
       "      <th>diff</th>\n",
       "    </tr>\n",
       "  </thead>\n",
       "  <tbody>\n",
       "    <tr>\n",
       "      <th>0</th>\n",
       "      <td>1999_01_DAL_WAS</td>\n",
       "      <td>35</td>\n",
       "      <td>41</td>\n",
       "      <td>6</td>\n",
       "    </tr>\n",
       "    <tr>\n",
       "      <th>1</th>\n",
       "      <td>1999_04_BAL_ATL</td>\n",
       "      <td>13</td>\n",
       "      <td>19</td>\n",
       "      <td>6</td>\n",
       "    </tr>\n",
       "    <tr>\n",
       "      <th>2</th>\n",
       "      <td>1999_08_NYG_PHI</td>\n",
       "      <td>17</td>\n",
       "      <td>23</td>\n",
       "      <td>6</td>\n",
       "    </tr>\n",
       "    <tr>\n",
       "      <th>3</th>\n",
       "      <td>1999_10_MIN_CHI</td>\n",
       "      <td>24</td>\n",
       "      <td>27</td>\n",
       "      <td>3</td>\n",
       "    </tr>\n",
       "    <tr>\n",
       "      <th>4</th>\n",
       "      <td>1999_11_CHI_SD</td>\n",
       "      <td>20</td>\n",
       "      <td>23</td>\n",
       "      <td>3</td>\n",
       "    </tr>\n",
       "    <tr>\n",
       "      <th>...</th>\n",
       "      <td>...</td>\n",
       "      <td>...</td>\n",
       "      <td>...</td>\n",
       "      <td>...</td>\n",
       "    </tr>\n",
       "    <tr>\n",
       "      <th>406</th>\n",
       "      <td>2023_13_CIN_JAX</td>\n",
       "      <td>31</td>\n",
       "      <td>34</td>\n",
       "      <td>3</td>\n",
       "    </tr>\n",
       "    <tr>\n",
       "      <th>407</th>\n",
       "      <td>2023_13_IND_TEN</td>\n",
       "      <td>28</td>\n",
       "      <td>31</td>\n",
       "      <td>3</td>\n",
       "    </tr>\n",
       "    <tr>\n",
       "      <th>408</th>\n",
       "      <td>2023_14_LA_BAL</td>\n",
       "      <td>37</td>\n",
       "      <td>31</td>\n",
       "      <td>6</td>\n",
       "    </tr>\n",
       "    <tr>\n",
       "      <th>409</th>\n",
       "      <td>2023_15_HOU_TEN</td>\n",
       "      <td>16</td>\n",
       "      <td>19</td>\n",
       "      <td>3</td>\n",
       "    </tr>\n",
       "    <tr>\n",
       "      <th>410</th>\n",
       "      <td>2023_15_MIN_CIN</td>\n",
       "      <td>27</td>\n",
       "      <td>24</td>\n",
       "      <td>3</td>\n",
       "    </tr>\n",
       "  </tbody>\n",
       "</table>\n",
       "<p>411 rows × 4 columns</p>\n",
       "</div>"
      ],
      "text/plain": [
       "             game_id  home_score  away_score  diff\n",
       "0    1999_01_DAL_WAS          35          41     6\n",
       "1    1999_04_BAL_ATL          13          19     6\n",
       "2    1999_08_NYG_PHI          17          23     6\n",
       "3    1999_10_MIN_CHI          24          27     3\n",
       "4     1999_11_CHI_SD          20          23     3\n",
       "..               ...         ...         ...   ...\n",
       "406  2023_13_CIN_JAX          31          34     3\n",
       "407  2023_13_IND_TEN          28          31     3\n",
       "408   2023_14_LA_BAL          37          31     6\n",
       "409  2023_15_HOU_TEN          16          19     3\n",
       "410  2023_15_MIN_CIN          27          24     3\n",
       "\n",
       "[411 rows x 4 columns]"
      ]
     },
     "execution_count": 210,
     "metadata": {},
     "output_type": "execute_result"
    }
   ],
   "source": [
    "f = df['qtr'] == 5\n",
    "f = f & (df['score_differential'] != df['score_differential_post'])\n",
    "\n",
    "# df[f][['posteam', 'score_differential', 'score_differential_post']].dropna().groupby('score_differential_post').count()\n",
    "ot_diff = df[f][['game_id', 'home_score', 'away_score']].groupby('game_id').agg(max).reset_index().assign(diff = lambda d: abs(d['home_score'] - d['away_score']))\n",
    "ot_diff"
   ]
  },
  {
   "cell_type": "code",
   "execution_count": 211,
   "metadata": {},
   "outputs": [
    {
     "data": {
      "text/html": [
       "<div>\n",
       "<style scoped>\n",
       "    .dataframe tbody tr th:only-of-type {\n",
       "        vertical-align: middle;\n",
       "    }\n",
       "\n",
       "    .dataframe tbody tr th {\n",
       "        vertical-align: top;\n",
       "    }\n",
       "\n",
       "    .dataframe thead th {\n",
       "        text-align: right;\n",
       "    }\n",
       "</style>\n",
       "<table border=\"1\" class=\"dataframe\">\n",
       "  <thead>\n",
       "    <tr style=\"text-align: right;\">\n",
       "      <th></th>\n",
       "      <th>game_id</th>\n",
       "      <th>home_score</th>\n",
       "      <th>away_score</th>\n",
       "    </tr>\n",
       "    <tr>\n",
       "      <th>diff</th>\n",
       "      <th></th>\n",
       "      <th></th>\n",
       "      <th></th>\n",
       "    </tr>\n",
       "  </thead>\n",
       "  <tbody>\n",
       "    <tr>\n",
       "      <th>0</th>\n",
       "      <td>14</td>\n",
       "      <td>14</td>\n",
       "      <td>14</td>\n",
       "    </tr>\n",
       "    <tr>\n",
       "      <th>2</th>\n",
       "      <td>2</td>\n",
       "      <td>2</td>\n",
       "      <td>2</td>\n",
       "    </tr>\n",
       "    <tr>\n",
       "      <th>3</th>\n",
       "      <td>280</td>\n",
       "      <td>280</td>\n",
       "      <td>280</td>\n",
       "    </tr>\n",
       "    <tr>\n",
       "      <th>6</th>\n",
       "      <td>115</td>\n",
       "      <td>115</td>\n",
       "      <td>115</td>\n",
       "    </tr>\n",
       "  </tbody>\n",
       "</table>\n",
       "</div>"
      ],
      "text/plain": [
       "      game_id  home_score  away_score\n",
       "diff                                 \n",
       "0          14          14          14\n",
       "2           2           2           2\n",
       "3         280         280         280\n",
       "6         115         115         115"
      ]
     },
     "execution_count": 211,
     "metadata": {},
     "output_type": "execute_result"
    }
   ],
   "source": [
    "ot_diff.groupby('diff').count()"
   ]
  },
  {
   "cell_type": "code",
   "execution_count": 212,
   "metadata": {},
   "outputs": [
    {
     "name": "stdout",
     "output_type": "stream",
     "text": [
      "0.7088607594936709\n",
      "0.2911392405063291\n"
     ]
    }
   ],
   "source": [
    "print(280 / (280 + 115))\n",
    "print(115 / (280 + 115))"
   ]
  },
  {
   "cell_type": "markdown",
   "metadata": {},
   "source": [
    "### ."
   ]
  },
  {
   "cell_type": "code",
   "execution_count": 215,
   "metadata": {},
   "outputs": [],
   "source": [
    "# what is (max, min) score distribution given # of drives\n",
    "N_SAMPLE = int(1e4)\n",
    "score_dist_n = {}\n",
    "\n",
    "for n_drives in drive_pmf['drive']:\n",
    "    n = int(n_drives)\n",
    "    score_dist_n[n] = []\n",
    "    for _ in range(N_SAMPLE):\n",
    "        sf_sample = random.choices(np.arange(len(sf_pmf_n[n])), sf_pmf_n[n], k=1)[0]\n",
    "        kc_sample = random.choices(np.arange(len(kc_pmf_n[n])), kc_pmf_n[n], k=1)[0] \n",
    "        if sf_sample == kc_sample:\n",
    "            if random.random() < 0.7:\n",
    "                score_dist_n[n].append([sf_sample + 3, sf_sample])\n",
    "            else:\n",
    "                score_dist_n[n].append([sf_sample + 6, sf_sample])\n",
    "            \n",
    "        else:\n",
    "            score_dist_n[n].append([max(sf_sample, kc_sample), min(sf_sample, kc_sample)])"
   ]
  },
  {
   "cell_type": "code",
   "execution_count": 217,
   "metadata": {},
   "outputs": [],
   "source": [
    "score_dist = []\n",
    "\n",
    "N_SAMPLE = int(1e6)\n",
    "\n",
    "for _ in range(N_SAMPLE):\n",
    "    # sample from drive_pmf\n",
    "    n_drives = random.choices(drive_pmf['drive'], drive_pmf['freq'], k=1)[0]\n",
    "    n_drives = int(n_drives)\n",
    "\n",
    "    # sample (max, min) from corresponding drive # \n",
    "    for tup in random.choices(score_dist_n[n_drives], k=1):\n",
    "        score_dist.append(tup)"
   ]
  },
  {
   "cell_type": "code",
   "execution_count": 218,
   "metadata": {},
   "outputs": [],
   "source": [
    "score_heatmap = np.zeros((60, 60))\n",
    "for score in score_dist:\n",
    "    win_score = min(score[0], 59)\n",
    "    lose_score = min(score[1], 59)\n",
    "    score_heatmap[win_score, lose_score] += 1"
   ]
  },
  {
   "cell_type": "code",
   "execution_count": 219,
   "metadata": {},
   "outputs": [
    {
     "data": {
      "text/plain": [
       "<AxesSubplot: >"
      ]
     },
     "execution_count": 219,
     "metadata": {},
     "output_type": "execute_result"
    },
    {
     "data": {
      "image/png": "[encoded data removed]",
      "text/plain": [
       "<Figure size 640x480 with 2 Axes>"
      ]
     },
     "metadata": {},
     "output_type": "display_data"
    }
   ],
   "source": [
    "sns.heatmap(score_heatmap, cmap=\"Blues\")"
   ]
  },
  {
   "cell_type": "markdown",
   "metadata": {},
   "source": [
    "## How can we get the best guess to reduce MAE, given everyone else's predictions?\n",
    "- aka dont play the game, play the player :P"
   ]
  },
  {
   "cell_type": "code",
   "execution_count": 60,
   "metadata": {},
   "outputs": [],
   "source": [
    "# predictions\n",
    "preds = [\n",
    "    (31, 24),\n",
    "    (21, 17),\n",
    "    (24, 20),\n",
    "    (26, 21),\n",
    "    (34, 30),\n",
    "    (27, 24),\n",
    "    (20, 17),\n",
    "    (50, 12),\n",
    "    (17, 12),\n",
    "    (34, 27),\n",
    "    (30, 22),\n",
    "    (25, 23),\n",
    "    (34, 28),\n",
    "    (27, 24),\n",
    "    (38, 34),\n",
    "    (27, 20),\n",
    "    (24, 21),\n",
    "    (31, 17),\n",
    "    (32, 24),\n",
    "    (30, 24),\n",
    "    (29, 22),\n",
    "    (35, 20),\n",
    "    (31, 26)\n",
    "]"
   ]
  },
  {
   "cell_type": "code",
   "execution_count": 221,
   "metadata": {},
   "outputs": [],
   "source": [
    "guess = np.zeros((60, 60))\n",
    "\n",
    "for guess_w in range(60):\n",
    "    for guess_l in range(guess_w):\n",
    "        count = 0\n",
    "\n",
    "        for cell_w in range(60):\n",
    "            for cell_l in range(cell_w):\n",
    "                dist = abs(cell_w - guess_w) + abs(cell_l - guess_l)\n",
    "\n",
    "                dist_other = 100\n",
    "                for pred in preds:\n",
    "                    dist_other = min(dist_other, abs(pred[0] - guess_w) + abs(pred[1] - guess_l))\n",
    "\n",
    "                if dist < dist_other:\n",
    "                    count += score_heatmap[cell_w, cell_l]\n",
    "                elif dist == dist_other:\n",
    "                    count += 0.5 * score_heatmap[cell_w, cell_l]\n",
    "                else:\n",
    "                    continue\n",
    "\n",
    "        guess[guess_w, guess_l] = count\n",
    "\n"
   ]
  },
  {
   "cell_type": "code",
   "execution_count": 222,
   "metadata": {},
   "outputs": [
    {
     "data": {
      "text/plain": [
       "Text(0.5, 23.52222222222222, 'Losing team')"
      ]
     },
     "execution_count": 222,
     "metadata": {},
     "output_type": "execute_result"
    },
    {
     "data": {
      "image/png": "[encoded data removed]",
      "text/plain": [
       "<Figure size 640x480 with 1 Axes>"
      ]
     },
     "metadata": {},
     "output_type": "display_data"
    }
   ],
   "source": [
    "sns.heatmap(guess, cbar=False)\n",
    "plt.title('Where is the most value, given the current guesses?')\n",
    "plt.ylabel('Winning team')\n",
    "plt.xlabel('Losing team')"
   ]
  },
  {
   "cell_type": "code",
   "execution_count": 223,
   "metadata": {},
   "outputs": [
    {
     "name": "stdout",
     "output_type": "stream",
     "text": [
      "Predicted optimal score: 47, 25\n"
     ]
    }
   ],
   "source": [
    "# This seems very far-fetched lol\n",
    "print(f'Predicted optimal score: {np.argmax(guess) // 60}, {np.argmax(guess) % 60}')\n"
   ]
  },
  {
   "cell_type": "markdown",
   "metadata": {},
   "source": [
    "# Use alternate betting odds instead"
   ]
  },
  {
   "cell_type": "code",
   "execution_count": 1,
   "metadata": {},
   "outputs": [],
   "source": [
    "def odds_to_prob(odds):\n",
    "    if odds[0] == '+':\n",
    "        val = int(odds[1:])\n",
    "        return 100 / (100 + val) \n",
    "    elif odds[0] == '-':\n",
    "        val = int(odds[1:])\n",
    "        return val / (100 + val)\n",
    "    else:\n",
    "        print(\"Odds must start with '-' or '+'.\")"
   ]
  },
  {
   "cell_type": "markdown",
   "metadata": {},
   "source": [
    "## Spread odds\n",
    "![spread-odds-1](betting-odds/spread-odds-1.png)\n",
    "![spread-odds-2](betting-odds/spread-odds-2.png)\n",
    "![spread-odds-3](betting-odds/spread-odds-3.png)\n",
    "![spread-odds-4](betting-odds/spread-odds-4.png)\n"
   ]
  },
  {
   "cell_type": "code",
   "execution_count": 2,
   "metadata": {},
   "outputs": [
    {
     "data": {
      "text/plain": [
       "0.29850746268656714"
      ]
     },
     "execution_count": 2,
     "metadata": {},
     "output_type": "execute_result"
    }
   ],
   "source": [
    "odds_to_prob('+235')"
   ]
  },
  {
   "cell_type": "code",
   "execution_count": 4,
   "metadata": {},
   "outputs": [
    {
     "data": {
      "text/plain": [
       "0.23474178403755863"
      ]
     },
     "execution_count": 4,
     "metadata": {},
     "output_type": "execute_result"
    }
   ],
   "source": [
    "1 - odds_to_prob('-326')"
   ]
  },
  {
   "cell_type": "code",
   "execution_count": 24,
   "metadata": {},
   "outputs": [],
   "source": [
    "alt_spread_odds = {}\n",
    "alt_spread_odds['-13.5'] = ('+505', '-890')\n",
    "alt_spread_odds['-13'] = ('+496', '-860')\n",
    "alt_spread_odds['-12.5'] = ('+457', '-770')\n",
    "alt_spread_odds['-12'] = ('+445', '-740')\n",
    "alt_spread_odds['-11.5'] = ('+417', '-670')\n",
    "alt_spread_odds['-11'] = ('+399', '-640')\n",
    "alt_spread_odds['-10.5'] = ('+370', '-573')\n",
    "alt_spread_odds['-10'] = ('+355', '-543')\n",
    "alt_spread_odds['-9.5'] = ('+302', '-441')\n",
    "alt_spread_odds['-9'] = ('+296', '-432')\n",
    "alt_spread_odds['-8.5'] = ('+293', '-425')\n",
    "alt_spread_odds['-8'] = ('+283', '-407')\n",
    "alt_spread_odds['-7.5'] = ('+253', '-356')\n",
    "alt_spread_odds['-7'] = ('+235', '-326')\n",
    "\n",
    "alt_spread_odds['-6.5'] = ('+194', '-262')\n",
    "alt_spread_odds['-6'] = ('+181', '-243')\n",
    "alt_spread_odds['-5.5'] = ('+159', '-210')\n",
    "alt_spread_odds['-5'] = ('+152', '-200')\n",
    "alt_spread_odds['-4.5'] = ('+141', '-185')\n",
    "alt_spread_odds['-4'] = ('+134', '-175')\n",
    "alt_spread_odds['-3.5'] = ('+125', '-162')\n",
    "alt_spread_odds['-3'] = ('+116', '-151')\n",
    "alt_spread_odds['-2.5'] = ('-103', '-125')\n",
    "alt_spread_odds['-1.5'] = ('-122', '-106')\n",
    "alt_spread_odds['-1'] = ('-129', '+100')\n",
    "\n",
    "alt_spread_odds['+1'] = ('-145', '+112')\n",
    "alt_spread_odds['+1.5'] = ('-153', '+118')\n",
    "alt_spread_odds['+2'] = ('-162', '+125')\n",
    "alt_spread_odds['+2.5'] = ('-163', '+125')\n",
    "alt_spread_odds['+3'] = ('-206', '+156')\n",
    "alt_spread_odds['+3.5'] = ('-231', '+174')\n",
    "alt_spread_odds['+4'] = ('-254', '+189')\n",
    "alt_spread_odds['+4.5'] = ('-266', '+197')\n",
    "alt_spread_odds['+5'] = ('-289', '+212')\n",
    "alt_spread_odds['+5.5'] = ('-299', '+218')\n",
    "alt_spread_odds['+6'] = ('-343', '+246')\n",
    "alt_spread_odds['+6.5'] = ('-361', '+256')\n",
    "\n",
    "alt_spread_odds['+7'] = ('-455', '+310')\n",
    "alt_spread_odds['+7.5'] = ('-488', '+327')\n",
    "alt_spread_odds['+8'] = ('-536', '+353')\n",
    "alt_spread_odds['+8.5'] = ('-551', '+360')\n",
    "alt_spread_odds['+9'] = ('-593', '+381')\n",
    "alt_spread_odds['+9.5'] = ('-600', '+385')\n",
    "alt_spread_odds['+10'] = ('-720', '+440')\n",
    "alt_spread_odds['+10.5'] = ('-750', '+452')\n",
    "alt_spread_odds['+11'] = ('-860', '+495')\n",
    "alt_spread_odds['+11.5'] = ('-880', '+504')\n",
    "alt_spread_odds['+12'] = ('-970', '+535')\n",
    "alt_spread_odds['+12.5'] = ('-980', '+540')\n",
    "alt_spread_odds['+13'] = ('-1140', '+595')"
   ]
  },
  {
   "cell_type": "code",
   "execution_count": 25,
   "metadata": {},
   "outputs": [],
   "source": [
    "alt_spread_probs = {}\n",
    "for k, v in alt_spread_odds.items():\n",
    "    alt_spread_probs[k] = (odds_to_prob(v[0]), 1-odds_to_prob(v[1]))"
   ]
  },
  {
   "cell_type": "code",
   "execution_count": 36,
   "metadata": {},
   "outputs": [
    {
     "data": {
      "text/plain": [
       "Text(0.5, 1.0, 'CMF of SF line, lower + upper bounds')"
      ]
     },
     "execution_count": 36,
     "metadata": {},
     "output_type": "execute_result"
    },
    {
     "data": {
      "image/png": "[encoded data removed]",
      "text/plain": [
       "<Figure size 640x480 with 1 Axes>"
      ]
     },
     "metadata": {},
     "output_type": "display_data"
    }
   ],
   "source": [
    "for k, v in alt_spread_probs.items():\n",
    "    plt.axvline(x=float(k), ymin=v[1], ymax=v[0])\n",
    "plt.xlabel('SF line')\n",
    "plt.ylabel('Probability')\n",
    "plt.title('CMF of SF line, lower + upper bounds')"
   ]
  },
  {
   "cell_type": "code",
   "execution_count": 35,
   "metadata": {},
   "outputs": [],
   "source": [
    "# impute \n",
    "alt_spread_probs['-2'] = (\n",
    "    np.average([\n",
    "        alt_spread_probs['-2.5'][0], \n",
    "        alt_spread_probs['-1.5'][0]\n",
    "        ]), \n",
    "    np.average([\n",
    "        alt_spread_probs['-2.5'][1],\n",
    "        alt_spread_probs['-1.5'][1],\n",
    "    ])\n",
    ")\n",
    "\n",
    "alt_spread_probs['0'] = (\n",
    "    np.average([\n",
    "        alt_spread_probs['-1'][0], \n",
    "        alt_spread_probs['+1'][0]\n",
    "        ]), \n",
    "    np.average([\n",
    "        alt_spread_probs['-1'][1],\n",
    "        alt_spread_probs['+1'][1],\n",
    "    ])\n",
    ")\n",
    "\n",
    "alt_spread_probs['+0.5'] = (\n",
    "    np.average([\n",
    "        alt_spread_probs['0'][0], \n",
    "        alt_spread_probs['+1'][0]\n",
    "        ]), \n",
    "    np.average([\n",
    "        alt_spread_probs['0'][1],\n",
    "        alt_spread_probs['+1'][1],\n",
    "    ])\n",
    ")\n",
    "\n",
    "alt_spread_probs['-0.5'] = (\n",
    "    np.average([\n",
    "        alt_spread_probs['-1'][0], \n",
    "        alt_spread_probs['0'][0]\n",
    "        ]), \n",
    "    np.average([\n",
    "        alt_spread_probs['-1'][1],\n",
    "        alt_spread_probs['0'][1],\n",
    "    ])\n",
    ")"
   ]
  },
  {
   "cell_type": "code",
   "execution_count": 77,
   "metadata": {},
   "outputs": [
    {
     "data": {
      "text/plain": [
       "[[-13.5, 0.13314967860422405],\n",
       " [-13.0, 0.13597595078299773],\n",
       " [-12.5, 0.1472378711900782],\n",
       " [-12.0, 0.15126692878986459],\n",
       " [-11.5, 0.16164686377452336],\n",
       " [-11.0, 0.16776796836917074],\n",
       " [-10.5, 0.1806771837754102],\n",
       " [-10.0, 0.18765060755729496],\n",
       " [-9.5, 0.216799551227228],\n",
       " [-9.0, 0.22024758866864133],\n",
       " [-8.5, 0.22246455834242093],\n",
       " [-8.0, 0.22916763226062284],\n",
       " [-7.5, 0.25129218229710254],\n",
       " [-7.0, 0.2666246233620629],\n",
       " [-6.5, 0.30818957417221027],\n",
       " [-6.0, 0.3237085378126848],\n",
       " [-5.5, 0.35434051563083824],\n",
       " [-5.0, 0.3650793650793651],\n",
       " [-4.5, 0.3829074761592779],\n",
       " [-4.0, 0.39549339549339546],\n",
       " [-3.5, 0.41306191687871074],\n",
       " [-3.0, 0.43068466873247746],\n",
       " [-2.5, 0.4759168035030104],\n",
       " [-2.0, 0.4967050124398635],\n",
       " [-1.5, 0.5174932213767165],\n",
       " [-1.0, 0.5316593886462881],\n",
       " [-0.5, 0.5387618691705074],\n",
       " [0.0, 0.5458643496947266],\n",
       " [0.5, 0.5529668302189459],\n",
       " [1.0, 0.5600693107431651],\n",
       " [1.5, 0.5730137433368386],\n",
       " [2.0, 0.5869380831212893],\n",
       " [2.5, 0.5876637093367132],\n",
       " [3.0, 0.6412888071895425],\n",
       " [3.5, 0.6664608463624937],\n",
       " [4.0, 0.6857466815240554],\n",
       " [4.5, 0.6950378097919081],\n",
       " [5.0, 0.7112088853734098],\n",
       " [5.5, 0.7174540123894643],\n",
       " [6.0, 0.7426245123240126],\n",
       " [6.5, 0.7510906919495965],\n",
       " [7.0, 0.7879586903977147],\n",
       " [7.5, 0.7978699676591948],\n",
       " [8.0, 0.8110083718605523],\n",
       " [8.5, 0.814499432311494],\n",
       " [9.0, 0.8238998238998239],\n",
       " [9.5, 0.8254786450662739],\n",
       " [10.0, 0.8464317976513098],\n",
       " [10.5, 0.8505967604433078],\n",
       " [11.0, 0.8638830532212884],\n",
       " [11.5, 0.8661981348830923],\n",
       " [12.0, 0.8745308705570682],\n",
       " [12.5, 0.8755787037037037],\n",
       " [13.0, 0.8877349733116733]]"
      ]
     },
     "execution_count": 77,
     "metadata": {},
     "output_type": "execute_result"
    }
   ],
   "source": [
    "spread_avg = []\n",
    "for k, v in alt_spread_probs.items():\n",
    "    # print(k, v)\n",
    "    spread_avg.append([float(k), np.average([v[0], v[1]])])\n",
    "    \n",
    "spread_avg.sort(key = lambda x: x[0])\n",
    "spread_avg"
   ]
  },
  {
   "cell_type": "code",
   "execution_count": 78,
   "metadata": {},
   "outputs": [
    {
     "data": {
      "text/plain": [
       "[[-13.5, 0.13314967860422405],\n",
       " [-13.0, 0.002826272178773681],\n",
       " [-12.5, 0.011261920407080461],\n",
       " [-12.0, 0.00402905759978639],\n",
       " [-11.5, 0.010379934984658779],\n",
       " [-11.0, 0.006121104594647375],\n",
       " [-10.5, 0.01290921540623946],\n",
       " [-10.0, 0.006973423781884758],\n",
       " [-9.5, 0.029148943669933036],\n",
       " [-9.0, 0.0034480374414133375],\n",
       " [-8.5, 0.0022169696737796007],\n",
       " [-8.0, 0.006703073918201907],\n",
       " [-7.5, 0.0221245500364797],\n",
       " [-7.0, 0.015332441064960345],\n",
       " [-6.5, 0.04156495081014738],\n",
       " [-6.0, 0.015518963640474559],\n",
       " [-5.5, 0.03063197781815341],\n",
       " [-5.0, 0.010738849448526877],\n",
       " [-4.5, 0.01782811107991278],\n",
       " [-4.0, 0.012585919334117568],\n",
       " [-3.5, 0.017568521385315283],\n",
       " [-3.0, 0.017622751853766716],\n",
       " [-2.5, 0.04523213477053295],\n",
       " [-2.0, 0.02078820893685307],\n",
       " [-1.5, 0.020788208936853014],\n",
       " [-1.0, 0.01416616726957165],\n",
       " [-0.5, 0.007102480524219246],\n",
       " [0.0, 0.007102480524219246],\n",
       " [0.5, 0.007102480524219246],\n",
       " [1.0, 0.007102480524219246],\n",
       " [1.5, 0.012944432593673505],\n",
       " [2.0, 0.013924339784450623],\n",
       " [2.5, 0.0007256262154239357],\n",
       " [3.0, 0.05362509785282932],\n",
       " [3.5, 0.02517203917295119],\n",
       " [4.0, 0.019285835161561682],\n",
       " [4.5, 0.009291128267852722],\n",
       " [5.0, 0.01617107558150166],\n",
       " [5.5, 0.006245127016054508],\n",
       " [6.0, 0.02517049993454834],\n",
       " [6.5, 0.008466179625583936],\n",
       " [7.0, 0.03686799844811817],\n",
       " [7.5, 0.009911277261480111],\n",
       " [8.0, 0.013138404201357479],\n",
       " [8.5, 0.0034910604509417187],\n",
       " [9.0, 0.009400391588329837],\n",
       " [9.5, 0.0015788211664500285],\n",
       " [10.0, 0.02095315258503594],\n",
       " [10.5, 0.0041649627919979615],\n",
       " [11.0, 0.013286292777980657],\n",
       " [11.5, 0.0023150816618038306],\n",
       " [12.0, 0.008332735673975966],\n",
       " [12.5, 0.0010478331466354796],\n",
       " [13.0, 0.012156269607969561]]"
      ]
     },
     "execution_count": 78,
     "metadata": {},
     "output_type": "execute_result"
    }
   ],
   "source": [
    "spread_avg_pdf = []\n",
    "prev = 0\n",
    "for elem in spread_avg:\n",
    "    spread_avg_pdf.append([elem[0], elem[1] - prev])\n",
    "    prev = elem[1]\n",
    "\n",
    "spread_avg_pdf"
   ]
  },
  {
   "cell_type": "code",
   "execution_count": null,
   "metadata": {},
   "outputs": [],
   "source": []
  },
  {
   "cell_type": "markdown",
   "metadata": {},
   "source": [
    "## Over/Under Odds\n",
    "![ou-odds-1](betting-odds/ou-odds-1.png)\n",
    "![ou-odds-2](betting-odds/ou-odds-2.png)\n",
    "![ou-odds-3](betting-odds/ou-odds-3.png)"
   ]
  },
  {
   "cell_type": "code",
   "execution_count": 19,
   "metadata": {},
   "outputs": [],
   "source": [
    "alt_ou_odds = {}\n",
    "alt_ou_odds['35.5'] = ('-620', '+395')\n",
    "alt_ou_odds['36'] = ('-600', '+384')\n",
    "alt_ou_odds['36.5'] = ('-510', '+339')\n",
    "alt_ou_odds['37'] = ('-491', '+329')\n",
    "alt_ou_odds['37.5'] = ('-410', '+285')\n",
    "alt_ou_odds['38'] = ('-399', '+278')\n",
    "alt_ou_odds['38.5'] = ('-365', '+258')\n",
    "alt_ou_odds['39'] = ('-352', '+251')\n",
    "alt_ou_odds['39.5'] = ('-320', '+231')\n",
    "alt_ou_odds['40'] = ('-306', '+223')\n",
    "alt_ou_odds['40.5'] = ('-276', '+203')\n",
    "alt_ou_odds['41'] = ('-262', '+194')\n",
    "alt_ou_odds['41.5'] = ('-236', '+177')\n",
    "alt_ou_odds['42'] = ('-229', '+172')\n",
    "alt_ou_odds['42.5'] = ('-217', '+164')\n",
    "alt_ou_odds['43'] = ('-205', '+156')\n",
    "alt_ou_odds['43.5'] = ('-186', '+142')\n",
    "\n",
    "alt_ou_odds['44'] = ('-176', '+135')\n",
    "alt_ou_odds['44.5'] = ('-162', '+124')\n",
    "alt_ou_odds['45'] = ('-154', '+119')\n",
    "alt_ou_odds['45.5'] = ('-145', '+112')\n",
    "alt_ou_odds['46'] = ('-139', '+107')\n",
    "alt_ou_odds['46.5'] = ('-133', '+103')\n",
    "alt_ou_odds['47'] = ('-124', '-105')\n",
    "alt_ou_odds['48'] = ('-109', '-119')\n",
    "alt_ou_odds['48.5'] = ('-104', '-124')\n",
    "alt_ou_odds['49'] = ('+102', '-132')\n",
    "alt_ou_odds['49.5'] = ('+107', '-139')\n",
    "alt_ou_odds['50'] = ('+114', '-148')\n",
    "alt_ou_odds['50.5'] = ('+120', '-157')\n",
    "alt_ou_odds['51'] = ('+131', '-171')\n",
    "alt_ou_odds['51.5'] = ('+139', '-182')\n",
    "alt_ou_odds['52'] = ('+148', '-194')\n",
    "alt_ou_odds['52.5'] = ('+153', '-202')\n",
    "\n",
    "alt_ou_odds['53'] = ('+163', '-217')\n",
    "alt_ou_odds['53.5'] = ('+169', '-225')\n",
    "alt_ou_odds['54'] = ('+183', '-245')\n",
    "alt_ou_odds['54.5'] = ('+190', '-255')\n",
    "alt_ou_odds['55'] = ('+208', '-284')\n",
    "alt_ou_odds['55.5'] = ('+217', '-297')\n",
    "alt_ou_odds['56'] = ('+231', '-319')\n",
    "alt_ou_odds['56.5'] = ('+236', '-328')\n",
    "alt_ou_odds['57'] = ('+259', '-366')\n",
    "alt_ou_odds['57.5'] = ('+267', '-380')\n",
    "alt_ou_odds['58'] = ('+296', '-430')\n",
    "alt_ou_odds['58.5'] = ('+305', '-446')\n",
    "alt_ou_odds['59'] = ('+332', '-496')\n",
    "alt_ou_odds['59.5'] = ('+339', '-510')\n",
    "alt_ou_odds['60'] = ('+361', '-554')\n",
    "alt_ou_odds['60.5'] = ('+368', '-567')"
   ]
  },
  {
   "cell_type": "code",
   "execution_count": 37,
   "metadata": {},
   "outputs": [],
   "source": [
    "alt_ou_probs = {}\n",
    "for k, v in alt_ou_odds.items():\n",
    "    alt_ou_probs[k] = (1-odds_to_prob(v[0]), odds_to_prob(v[1]))"
   ]
  },
  {
   "cell_type": "code",
   "execution_count": 38,
   "metadata": {},
   "outputs": [
    {
     "data": {
      "text/plain": [
       "{'35.5': (0.13888888888888884, 0.20202020202020202),\n",
       " '36': (0.1428571428571429, 0.2066115702479339),\n",
       " '36.5': (0.16393442622950816, 0.22779043280182232),\n",
       " '37': (0.16920473773265654, 0.2331002331002331),\n",
       " '37.5': (0.196078431372549, 0.2597402597402597),\n",
       " '38': (0.2004008016032064, 0.26455026455026454),\n",
       " '38.5': (0.21505376344086025, 0.27932960893854747),\n",
       " '39': (0.22123893805309736, 0.2849002849002849),\n",
       " '39.5': (0.23809523809523814, 0.3021148036253776),\n",
       " '40': (0.24630541871921185, 0.30959752321981426),\n",
       " '40.5': (0.26595744680851063, 0.33003300330033003),\n",
       " '41': (0.2762430939226519, 0.3401360544217687),\n",
       " '41.5': (0.29761904761904767, 0.36101083032490977),\n",
       " '42': (0.30395136778115506, 0.36764705882352944),\n",
       " '42.5': (0.3154574132492114, 0.3787878787878788),\n",
       " '43': (0.3278688524590164, 0.390625),\n",
       " '43.5': (0.3496503496503497, 0.4132231404958678),\n",
       " '44': (0.3623188405797102, 0.425531914893617),\n",
       " '44.5': (0.38167938931297707, 0.44642857142857145),\n",
       " '45': (0.39370078740157477, 0.45662100456621),\n",
       " '45.5': (0.40816326530612246, 0.4716981132075472),\n",
       " '46': (0.41841004184100417, 0.4830917874396135),\n",
       " '46.5': (0.4291845493562232, 0.49261083743842365),\n",
       " '47': (0.4464285714285714, 0.5121951219512195),\n",
       " '48': (0.47846889952153115, 0.54337899543379),\n",
       " '48.5': (0.4901960784313726, 0.5535714285714286),\n",
       " '49': (0.504950495049505, 0.5689655172413793),\n",
       " '49.5': (0.5169082125603865, 0.5815899581589958),\n",
       " '50': (0.5327102803738317, 0.5967741935483871),\n",
       " '50.5': (0.5454545454545454, 0.6108949416342413),\n",
       " '51': (0.5670995670995671, 0.6309963099630996),\n",
       " '51.5': (0.5815899581589958, 0.6453900709219859),\n",
       " '52': (0.5967741935483871, 0.6598639455782312),\n",
       " '52.5': (0.6047430830039526, 0.6688741721854304),\n",
       " '53': (0.6197718631178708, 0.6845425867507886),\n",
       " '53.5': (0.6282527881040892, 0.6923076923076923),\n",
       " '54': (0.646643109540636, 0.7101449275362319),\n",
       " '54.5': (0.6551724137931034, 0.7183098591549296),\n",
       " '55': (0.6753246753246753, 0.7395833333333334),\n",
       " '55.5': (0.6845425867507886, 0.7481108312342569),\n",
       " '56': (0.6978851963746224, 0.7613365155131265),\n",
       " '56.5': (0.7023809523809523, 0.7663551401869159),\n",
       " '57': (0.7214484679665738, 0.7854077253218884),\n",
       " '57.5': (0.7275204359673024, 0.7916666666666666),\n",
       " '58': (0.7474747474747474, 0.8113207547169812),\n",
       " '58.5': (0.7530864197530864, 0.8168498168498168),\n",
       " '59': (0.7685185185185185, 0.8322147651006712),\n",
       " '59.5': (0.7722095671981777, 0.8360655737704918),\n",
       " '60': (0.7830802603036876, 0.8470948012232415),\n",
       " '60.5': (0.7863247863247863, 0.8500749625187406)}"
      ]
     },
     "execution_count": 38,
     "metadata": {},
     "output_type": "execute_result"
    }
   ],
   "source": [
    "alt_ou_probs"
   ]
  },
  {
   "cell_type": "code",
   "execution_count": 39,
   "metadata": {},
   "outputs": [
    {
     "data": {
      "text/plain": [
       "Text(0.5, 1.0, 'CDF, total score x')"
      ]
     },
     "execution_count": 39,
     "metadata": {},
     "output_type": "execute_result"
    },
    {
     "data": {
      "image/png": "[encoded data removed]",
      "text/plain": [
       "<Figure size 640x480 with 1 Axes>"
      ]
     },
     "metadata": {},
     "output_type": "display_data"
    }
   ],
   "source": [
    "for k, v in alt_ou_probs.items():\n",
    "    plt.axvline(x=float(k), ymin=v[0], ymax=v[1])\n",
    "plt.xlabel('Total points')\n",
    "plt.ylabel('Probability total points <= x')\n",
    "plt.title('CDF, total score x')"
   ]
  },
  {
   "cell_type": "code",
   "execution_count": 40,
   "metadata": {},
   "outputs": [],
   "source": [
    "# impute\n",
    "alt_ou_probs['47.5'] = (\n",
    "    np.average([\n",
    "        alt_ou_probs['47'][0], \n",
    "        alt_ou_probs['48'][0]\n",
    "        ]), \n",
    "    np.average([\n",
    "        alt_ou_probs['47'][1],\n",
    "        alt_ou_probs['48'][1],\n",
    "    ])\n",
    ")"
   ]
  },
  {
   "cell_type": "markdown",
   "metadata": {},
   "source": [
    "## Optimize O/U"
   ]
  },
  {
   "cell_type": "code",
   "execution_count": 85,
   "metadata": {},
   "outputs": [
    {
     "data": {
      "text/plain": [
       "{'35.5': (0.13888888888888884, 0.20202020202020202),\n",
       " '36': (0.1428571428571429, 0.2066115702479339),\n",
       " '36.5': (0.16393442622950816, 0.22779043280182232),\n",
       " '37': (0.16920473773265654, 0.2331002331002331),\n",
       " '37.5': (0.196078431372549, 0.2597402597402597),\n",
       " '38': (0.2004008016032064, 0.26455026455026454),\n",
       " '38.5': (0.21505376344086025, 0.27932960893854747),\n",
       " '39': (0.22123893805309736, 0.2849002849002849),\n",
       " '39.5': (0.23809523809523814, 0.3021148036253776),\n",
       " '40': (0.24630541871921185, 0.30959752321981426),\n",
       " '40.5': (0.26595744680851063, 0.33003300330033003),\n",
       " '41': (0.2762430939226519, 0.3401360544217687),\n",
       " '41.5': (0.29761904761904767, 0.36101083032490977),\n",
       " '42': (0.30395136778115506, 0.36764705882352944),\n",
       " '42.5': (0.3154574132492114, 0.3787878787878788),\n",
       " '43': (0.3278688524590164, 0.390625),\n",
       " '43.5': (0.3496503496503497, 0.4132231404958678),\n",
       " '44': (0.3623188405797102, 0.425531914893617),\n",
       " '44.5': (0.38167938931297707, 0.44642857142857145),\n",
       " '45': (0.39370078740157477, 0.45662100456621),\n",
       " '45.5': (0.40816326530612246, 0.4716981132075472),\n",
       " '46': (0.41841004184100417, 0.4830917874396135),\n",
       " '46.5': (0.4291845493562232, 0.49261083743842365),\n",
       " '47': (0.4464285714285714, 0.5121951219512195),\n",
       " '48': (0.47846889952153115, 0.54337899543379),\n",
       " '48.5': (0.4901960784313726, 0.5535714285714286),\n",
       " '49': (0.504950495049505, 0.5689655172413793),\n",
       " '49.5': (0.5169082125603865, 0.5815899581589958),\n",
       " '50': (0.5327102803738317, 0.5967741935483871),\n",
       " '50.5': (0.5454545454545454, 0.6108949416342413),\n",
       " '51': (0.5670995670995671, 0.6309963099630996),\n",
       " '51.5': (0.5815899581589958, 0.6453900709219859),\n",
       " '52': (0.5967741935483871, 0.6598639455782312),\n",
       " '52.5': (0.6047430830039526, 0.6688741721854304),\n",
       " '53': (0.6197718631178708, 0.6845425867507886),\n",
       " '53.5': (0.6282527881040892, 0.6923076923076923),\n",
       " '54': (0.646643109540636, 0.7101449275362319),\n",
       " '54.5': (0.6551724137931034, 0.7183098591549296),\n",
       " '55': (0.6753246753246753, 0.7395833333333334),\n",
       " '55.5': (0.6845425867507886, 0.7481108312342569),\n",
       " '56': (0.6978851963746224, 0.7613365155131265),\n",
       " '56.5': (0.7023809523809523, 0.7663551401869159),\n",
       " '57': (0.7214484679665738, 0.7854077253218884),\n",
       " '57.5': (0.7275204359673024, 0.7916666666666666),\n",
       " '58': (0.7474747474747474, 0.8113207547169812),\n",
       " '58.5': (0.7530864197530864, 0.8168498168498168),\n",
       " '59': (0.7685185185185185, 0.8322147651006712),\n",
       " '59.5': (0.7722095671981777, 0.8360655737704918),\n",
       " '60': (0.7830802603036876, 0.8470948012232415),\n",
       " '60.5': (0.7863247863247863, 0.8500749625187406),\n",
       " '47.5': (0.4624487354750513, 0.5277870586925048)}"
      ]
     },
     "execution_count": 85,
     "metadata": {},
     "output_type": "execute_result"
    }
   ],
   "source": [
    "alt_ou_probs"
   ]
  },
  {
   "cell_type": "code",
   "execution_count": 86,
   "metadata": {},
   "outputs": [],
   "source": [
    "ou_avg = []\n",
    "for k, v in alt_ou_probs.items():\n",
    "    # print(k, v)\n",
    "    ou_avg.append([float(k), np.average([v[0], v[1]])])\n",
    "    \n",
    "ou_avg.sort(key = lambda x: x[0])"
   ]
  },
  {
   "cell_type": "code",
   "execution_count": 87,
   "metadata": {},
   "outputs": [
    {
     "data": {
      "text/plain": [
       "[[35.5, 0.17045454545454541],\n",
       " [36.0, 0.17473435655253838],\n",
       " [36.5, 0.19586242951566524],\n",
       " [37.0, 0.20115248541644482],\n",
       " [37.5, 0.22790934555640435],\n",
       " [38.0, 0.23247553307673546],\n",
       " [38.5, 0.24719168618970386],\n",
       " [39.0, 0.25306961147669116],\n",
       " [39.5, 0.27010502086030785],\n",
       " [40.0, 0.27795147096951306],\n",
       " [40.5, 0.29799522505442033],\n",
       " [41.0, 0.30818957417221027],\n",
       " [41.5, 0.3293149389719787],\n",
       " [42.0, 0.33579921330234225],\n",
       " [42.5, 0.3471226460185451],\n",
       " [43.0, 0.3592469262295082],\n",
       " [43.5, 0.38143674507310876],\n",
       " [44.0, 0.3939253777366636],\n",
       " [44.5, 0.41405398037077423],\n",
       " [45.0, 0.4251608959838924],\n",
       " [45.5, 0.4399306892568348],\n",
       " [46.0, 0.4507509146403088],\n",
       " [46.5, 0.46089769339732345],\n",
       " [47.0, 0.47931184668989546],\n",
       " [47.5, 0.495117897083778],\n",
       " [48.0, 0.5109239474776606],\n",
       " [48.5, 0.5218837535014006],\n",
       " [49.0, 0.5369580061454422],\n",
       " [49.5, 0.5492490853596912],\n",
       " [50.0, 0.5647422369611095],\n",
       " [50.5, 0.5781747435443934],\n",
       " [51.0, 0.5990479385313334],\n",
       " [51.5, 0.6134900145404909],\n",
       " [52.0, 0.6283190695633092],\n",
       " [52.5, 0.6368086275946916],\n",
       " [53.0, 0.6521572249343297],\n",
       " [53.5, 0.6602802402058907],\n",
       " [54.0, 0.678394018538434],\n",
       " [54.5, 0.6867411364740166],\n",
       " [55.0, 0.7074540043290043],\n",
       " [55.5, 0.7163267089925227],\n",
       " [56.0, 0.7296108559438745],\n",
       " [56.5, 0.7343680462839342],\n",
       " [57.0, 0.753428096644231],\n",
       " [57.5, 0.7595935513169845],\n",
       " [58.0, 0.7793977510958643],\n",
       " [58.5, 0.7849681183014516],\n",
       " [59.0, 0.8003666418095948],\n",
       " [59.5, 0.8041375704843348],\n",
       " [60.0, 0.8150875307634646],\n",
       " [60.5, 0.8181998744217635]]"
      ]
     },
     "execution_count": 87,
     "metadata": {},
     "output_type": "execute_result"
    }
   ],
   "source": [
    "ou_avg"
   ]
  },
  {
   "cell_type": "code",
   "execution_count": 88,
   "metadata": {},
   "outputs": [
    {
     "data": {
      "text/plain": [
       "[[35.5, 0.17045454545454541],\n",
       " [36.0, 0.004279811097992969],\n",
       " [36.5, 0.021128072963126854],\n",
       " [37.0, 0.005290055900779578],\n",
       " [37.5, 0.026756860139959537],\n",
       " [38.0, 0.004566187520331111],\n",
       " [38.5, 0.014716153112968394],\n",
       " [39.0, 0.005877925286987301],\n",
       " [39.5, 0.017035409383616695],\n",
       " [40.0, 0.007846450109205205],\n",
       " [40.5, 0.020043754084907273],\n",
       " [41.0, 0.010194349117789936],\n",
       " [41.5, 0.021125364799768453],\n",
       " [42.0, 0.006484274330363526],\n",
       " [42.5, 0.011323432716202841],\n",
       " [43.0, 0.012124280210963123],\n",
       " [43.5, 0.02218981884360055],\n",
       " [44.0, 0.012488632663554822],\n",
       " [44.5, 0.02012860263411065],\n",
       " [45.0, 0.011106915613118162],\n",
       " [45.5, 0.014769793272942422],\n",
       " [46.0, 0.010820225383473991],\n",
       " [46.5, 0.01014677875701464],\n",
       " [47.0, 0.01841415329257201],\n",
       " [47.5, 0.015806050393882554],\n",
       " [48.0, 0.015806050393882554],\n",
       " [48.5, 0.010959806023740026],\n",
       " [49.0, 0.015074252644041608],\n",
       " [49.5, 0.01229107921424899],\n",
       " [50.0, 0.015493151601418287],\n",
       " [50.5, 0.013432506583283876],\n",
       " [51.0, 0.02087319498694007],\n",
       " [51.5, 0.014442076009157478],\n",
       " [52.0, 0.014829055022818283],\n",
       " [52.5, 0.008489558031382405],\n",
       " [53.0, 0.015348597339638115],\n",
       " [53.5, 0.008123015271561007],\n",
       " [54.0, 0.01811377833254324],\n",
       " [54.5, 0.008347117935582626],\n",
       " [55.0, 0.020712867854987715],\n",
       " [55.5, 0.008872704663518416],\n",
       " [56.0, 0.013284146951351827],\n",
       " [56.5, 0.004757190340059614],\n",
       " [57.0, 0.0190600503602969],\n",
       " [57.5, 0.006165454672753423],\n",
       " [58.0, 0.019804199778879816],\n",
       " [58.5, 0.0055703672055873454],\n",
       " [59.0, 0.015398523508143191],\n",
       " [59.5, 0.0037709286747399373],\n",
       " [60.0, 0.010949960279129867],\n",
       " [60.5, 0.0031123436582988218]]"
      ]
     },
     "execution_count": 88,
     "metadata": {},
     "output_type": "execute_result"
    }
   ],
   "source": [
    "ou_avg_pdf = []\n",
    "prev = 0\n",
    "for elem in ou_avg:\n",
    "    ou_avg_pdf.append([elem[0], elem[1] - prev])\n",
    "    prev = elem[1]\n",
    "\n",
    "ou_avg_pdf"
   ]
  },
  {
   "cell_type": "markdown",
   "metadata": {},
   "source": [
    "### Uniform smoothing for lo and hi bounds"
   ]
  },
  {
   "cell_type": "code",
   "execution_count": 89,
   "metadata": {},
   "outputs": [
    {
     "data": {
      "text/plain": [
       "[[25.0, 0.007747933884297519],\n",
       " [25.5, 0.007747933884297519],\n",
       " [26.0, 0.007747933884297519],\n",
       " [26.5, 0.007747933884297519],\n",
       " [27.0, 0.007747933884297519],\n",
       " [27.5, 0.007747933884297519],\n",
       " [28.0, 0.007747933884297519],\n",
       " [28.5, 0.007747933884297519],\n",
       " [29.0, 0.007747933884297519],\n",
       " [29.5, 0.007747933884297519],\n",
       " [30.0, 0.007747933884297519],\n",
       " [30.5, 0.007747933884297519],\n",
       " [31.0, 0.007747933884297519],\n",
       " [31.5, 0.007747933884297519],\n",
       " [32.0, 0.007747933884297519],\n",
       " [32.5, 0.007747933884297519],\n",
       " [33.0, 0.007747933884297519],\n",
       " [33.5, 0.007747933884297519],\n",
       " [34.0, 0.007747933884297519],\n",
       " [34.5, 0.007747933884297519],\n",
       " [35.0, 0.007747933884297519],\n",
       " [35.5, 0.007747933884297519],\n",
       " [36.0, 0.004279811097992969],\n",
       " [36.5, 0.021128072963126854],\n",
       " [37.0, 0.005290055900779578],\n",
       " [37.5, 0.026756860139959537],\n",
       " [38.0, 0.004566187520331111],\n",
       " [38.5, 0.014716153112968394],\n",
       " [39.0, 0.005877925286987301],\n",
       " [39.5, 0.017035409383616695],\n",
       " [40.0, 0.007846450109205205],\n",
       " [40.5, 0.020043754084907273],\n",
       " [41.0, 0.010194349117789936],\n",
       " [41.5, 0.021125364799768453],\n",
       " [42.0, 0.006484274330363526],\n",
       " [42.5, 0.011323432716202841],\n",
       " [43.0, 0.012124280210963123],\n",
       " [43.5, 0.02218981884360055],\n",
       " [44.0, 0.012488632663554822],\n",
       " [44.5, 0.02012860263411065],\n",
       " [45.0, 0.011106915613118162],\n",
       " [45.5, 0.014769793272942422],\n",
       " [46.0, 0.010820225383473991],\n",
       " [46.5, 0.01014677875701464],\n",
       " [47.0, 0.01841415329257201],\n",
       " [47.5, 0.015806050393882554],\n",
       " [48.0, 0.015806050393882554],\n",
       " [48.5, 0.010959806023740026],\n",
       " [49.0, 0.015074252644041608],\n",
       " [49.5, 0.01229107921424899],\n",
       " [50.0, 0.015493151601418287],\n",
       " [50.5, 0.013432506583283876],\n",
       " [51.0, 0.02087319498694007],\n",
       " [51.5, 0.014442076009157478],\n",
       " [52.0, 0.014829055022818283],\n",
       " [52.5, 0.008489558031382405],\n",
       " [53.0, 0.015348597339638115],\n",
       " [53.5, 0.008123015271561007],\n",
       " [54.0, 0.01811377833254324],\n",
       " [54.5, 0.008347117935582626],\n",
       " [55.0, 0.020712867854987715],\n",
       " [55.5, 0.008872704663518416],\n",
       " [56.0, 0.013284146951351827],\n",
       " [56.5, 0.004757190340059614],\n",
       " [57.0, 0.0190600503602969],\n",
       " [57.5, 0.006165454672753423],\n",
       " [58.0, 0.019804199778879816],\n",
       " [58.5, 0.0055703672055873454],\n",
       " [59.0, 0.015398523508143191],\n",
       " [59.5, 0.0037709286747399373],\n",
       " [60.0, 0.010949960279129867],\n",
       " [60.5, 0.0031123436582988218]]"
      ]
     },
     "execution_count": 89,
     "metadata": {},
     "output_type": "execute_result"
    }
   ],
   "source": [
    "ou_avg_pdf.sort(key = lambda x: x[0])\n",
    "[lo, lo_prob] = ou_avg_pdf[0]\n",
    "ou_avg_pdf.pop(0)\n",
    "\n",
    "lo_smooth = np.arange(25.0, lo+0.2, 0.5)\n",
    "for ou in lo_smooth:\n",
    "    ou_avg_pdf.append([ou, lo_prob / len(lo_smooth)])\n",
    "\n",
    "ou_avg_pdf.sort(key = lambda x: x[0])\n",
    "ou_avg_pdf"
   ]
  },
  {
   "cell_type": "code",
   "execution_count": 91,
   "metadata": {},
   "outputs": [
    {
     "data": {
      "text/plain": [
       "[[25.0, 0.007747933884297519],\n",
       " [25.5, 0.007747933884297519],\n",
       " [26.0, 0.007747933884297519],\n",
       " [26.5, 0.007747933884297519],\n",
       " [27.0, 0.007747933884297519],\n",
       " [27.5, 0.007747933884297519],\n",
       " [28.0, 0.007747933884297519],\n",
       " [28.5, 0.007747933884297519],\n",
       " [29.0, 0.007747933884297519],\n",
       " [29.5, 0.007747933884297519],\n",
       " [30.0, 0.007747933884297519],\n",
       " [30.5, 0.007747933884297519],\n",
       " [31.0, 0.007747933884297519],\n",
       " [31.5, 0.007747933884297519],\n",
       " [32.0, 0.007747933884297519],\n",
       " [32.5, 0.007747933884297519],\n",
       " [33.0, 0.007747933884297519],\n",
       " [33.5, 0.007747933884297519],\n",
       " [34.0, 0.007747933884297519],\n",
       " [34.5, 0.007747933884297519],\n",
       " [35.0, 0.007747933884297519],\n",
       " [35.5, 0.007747933884297519],\n",
       " [36.0, 0.004279811097992969],\n",
       " [36.5, 0.021128072963126854],\n",
       " [37.0, 0.005290055900779578],\n",
       " [37.5, 0.026756860139959537],\n",
       " [38.0, 0.004566187520331111],\n",
       " [38.5, 0.014716153112968394],\n",
       " [39.0, 0.005877925286987301],\n",
       " [39.5, 0.017035409383616695],\n",
       " [40.0, 0.007846450109205205],\n",
       " [40.5, 0.020043754084907273],\n",
       " [41.0, 0.010194349117789936],\n",
       " [41.5, 0.021125364799768453],\n",
       " [42.0, 0.006484274330363526],\n",
       " [42.5, 0.011323432716202841],\n",
       " [43.0, 0.012124280210963123],\n",
       " [43.5, 0.02218981884360055],\n",
       " [44.0, 0.012488632663554822],\n",
       " [44.5, 0.02012860263411065],\n",
       " [45.0, 0.011106915613118162],\n",
       " [45.5, 0.014769793272942422],\n",
       " [46.0, 0.010820225383473991],\n",
       " [46.5, 0.01014677875701464],\n",
       " [47.0, 0.01841415329257201],\n",
       " [47.5, 0.015806050393882554],\n",
       " [48.0, 0.015806050393882554],\n",
       " [48.5, 0.010959806023740026],\n",
       " [49.0, 0.015074252644041608],\n",
       " [49.5, 0.01229107921424899],\n",
       " [50.0, 0.015493151601418287],\n",
       " [50.5, 0.013432506583283876],\n",
       " [51.0, 0.02087319498694007],\n",
       " [51.5, 0.014442076009157478],\n",
       " [52.0, 0.014829055022818283],\n",
       " [52.5, 0.008489558031382405],\n",
       " [53.0, 0.015348597339638115],\n",
       " [53.5, 0.008123015271561007],\n",
       " [54.0, 0.01811377833254324],\n",
       " [54.5, 0.008347117935582626],\n",
       " [55.0, 0.020712867854987715],\n",
       " [55.5, 0.008872704663518416],\n",
       " [56.0, 0.013284146951351827],\n",
       " [56.5, 0.004757190340059614],\n",
       " [57.0, 0.0190600503602969],\n",
       " [57.5, 0.006165454672753423],\n",
       " [58.0, 0.019804199778879816],\n",
       " [58.5, 0.0055703672055873454],\n",
       " [59.0, 0.015398523508143191],\n",
       " [59.5, 0.0037709286747399373],\n",
       " [60.0, 0.010949960279129867],\n",
       " [60.5, 0.0031123436582988218],\n",
       " [61.0, 0.009090006278911844],\n",
       " [61.5, 0.009090006278911844],\n",
       " [62.0, 0.009090006278911844],\n",
       " [62.5, 0.009090006278911844],\n",
       " [63.0, 0.009090006278911844],\n",
       " [63.5, 0.009090006278911844],\n",
       " [64.0, 0.009090006278911844],\n",
       " [64.5, 0.009090006278911844],\n",
       " [65.0, 0.009090006278911844],\n",
       " [65.5, 0.009090006278911844],\n",
       " [66.0, 0.009090006278911844],\n",
       " [66.5, 0.009090006278911844],\n",
       " [67.0, 0.009090006278911844],\n",
       " [67.5, 0.009090006278911844],\n",
       " [68.0, 0.009090006278911844],\n",
       " [68.5, 0.009090006278911844],\n",
       " [69.0, 0.009090006278911844],\n",
       " [69.5, 0.009090006278911844],\n",
       " [70.0, 0.009090006278911844],\n",
       " [70.5, 0.009090006278911844]]"
      ]
     },
     "execution_count": 91,
     "metadata": {},
     "output_type": "execute_result"
    }
   ],
   "source": [
    "ou_avg_pdf.sort(key = lambda x: x[0], reverse=True)\n",
    "hi = ou_avg_pdf[0][0]\n",
    "hi_prob = 1 - np.asarray(ou_avg_pdf).sum(axis=0)[1]\n",
    "\n",
    "hi_smooth = np.arange(hi+0.5, hi+10.2, 0.5)\n",
    "for ou in hi_smooth:\n",
    "    ou_avg_pdf.append([ou, hi_prob / len(hi_smooth)])\n",
    "\n",
    "ou_avg_pdf.sort(key = lambda x: x[0])\n",
    "ou_avg_pdf"
   ]
  },
  {
   "cell_type": "code",
   "execution_count": 92,
   "metadata": {},
   "outputs": [],
   "source": [
    "ou_avg_pdf_dict = {}\n",
    "for elem in ou_avg_pdf:\n",
    "    ou_avg_pdf_dict[elem[0]] = elem[1]"
   ]
  },
  {
   "cell_type": "code",
   "execution_count": 93,
   "metadata": {},
   "outputs": [
    {
     "data": {
      "text/plain": [
       "[<matplotlib.lines.Line2D at 0x120e91f60>]"
      ]
     },
     "execution_count": 93,
     "metadata": {},
     "output_type": "execute_result"
    },
    {
     "data": {
      "image/png": "[encoded data removed]",
      "text/plain": [
       "<Figure size 640x480 with 1 Axes>"
      ]
     },
     "metadata": {},
     "output_type": "display_data"
    }
   ],
   "source": [
    "plt.plot(np.asarray(ou_avg_pdf)[:,0], np.asarray(ou_avg_pdf)[:,1])"
   ]
  },
  {
   "cell_type": "code",
   "execution_count": 94,
   "metadata": {},
   "outputs": [],
   "source": [
    "ou_preds = [x[0] + x[1] for x in preds]"
   ]
  },
  {
   "cell_type": "code",
   "execution_count": 95,
   "metadata": {},
   "outputs": [
    {
     "data": {
      "text/plain": [
       "[55,\n",
       " 38,\n",
       " 44,\n",
       " 47,\n",
       " 64,\n",
       " 51,\n",
       " 37,\n",
       " 62,\n",
       " 29,\n",
       " 61,\n",
       " 52,\n",
       " 48,\n",
       " 62,\n",
       " 51,\n",
       " 72,\n",
       " 47,\n",
       " 45,\n",
       " 48,\n",
       " 56,\n",
       " 54,\n",
       " 51,\n",
       " 55,\n",
       " 57]"
      ]
     },
     "execution_count": 95,
     "metadata": {},
     "output_type": "execute_result"
    }
   ],
   "source": [
    "ou_preds"
   ]
  },
  {
   "cell_type": "code",
   "execution_count": 100,
   "metadata": {},
   "outputs": [],
   "source": [
    "ou_guess = []\n",
    "for guess in range(20, 75):\n",
    "    p_guess = 0\n",
    "    for total_ou in np.arange(25.0, 70.7, 0.5):\n",
    "        dist = abs(guess - total_ou)\n",
    "        dist_other = 100\n",
    "        for ou_pred in ou_preds:\n",
    "            dist_other = min(dist_other, abs(ou_pred - total_ou))\n",
    "        if dist < dist_other:\n",
    "            p_guess += ou_avg_pdf_dict[total_ou]\n",
    "        elif dist == dist_other:\n",
    "            p_guess += 0.5 * ou_avg_pdf_dict[total_ou]\n",
    "        else:\n",
    "            continue\n",
    "    ou_guess.append([guess, p_guess])"
   ]
  },
  {
   "cell_type": "code",
   "execution_count": 108,
   "metadata": {},
   "outputs": [
    {
     "data": {
      "text/plain": [
       "Text(0.5, 1.0, 'Given other guesses in the pool, what should I guess for total score?')"
      ]
     },
     "execution_count": 108,
     "metadata": {},
     "output_type": "execute_result"
    },
    {
     "data": {
      "image/png": "[encoded data removed]",
      "text/plain": [
       "<Figure size 640x480 with 1 Axes>"
      ]
     },
     "metadata": {},
     "output_type": "display_data"
    }
   ],
   "source": [
    "ou_guess.sort(key = lambda x: x[0])\n",
    "plt.plot(np.asarray(ou_guess)[:, 0], np.asarray(ou_guess)[:, 1])\n",
    "plt.xlabel('My guess for total score')\n",
    "plt.ylabel('P(win)')\n",
    "plt.title('Given other guesses in the pool, what should I guess for total score?')"
   ]
  },
  {
   "cell_type": "code",
   "execution_count": 102,
   "metadata": {},
   "outputs": [],
   "source": [
    "ou_guess.sort(key = lambda x: x[1], reverse=True)"
   ]
  },
  {
   "cell_type": "code",
   "execution_count": 103,
   "metadata": {},
   "outputs": [
    {
     "data": {
      "text/plain": [
       "[[40, 0.08242642730396298],\n",
       " [43, 0.08236848763934179],\n",
       " [41, 0.07987361349194416],\n",
       " [42, 0.0791565402091162],\n",
       " [39, 0.07891864693887483],\n",
       " [65, 0.07272005023129476],\n",
       " [66, 0.07272005023129476],\n",
       " [67, 0.07272005023129476],\n",
       " [68, 0.07272005023129476],\n",
       " [69, 0.07272005023129476],\n",
       " [70, 0.06817504709183883],\n",
       " [29, 0.06585743801652894],\n",
       " [36, 0.06520541782749027],\n",
       " [30, 0.06198347107438016],\n",
       " [31, 0.06198347107438016],\n",
       " [32, 0.06198347107438016],\n",
       " [33, 0.06198347107438016],\n",
       " [34, 0.06198347107438016],\n",
       " [35, 0.06024940968122788],\n",
       " [71, 0.05908504081292698],\n",
       " [28, 0.058109504132231406],\n",
       " [44, 0.05802937765817695],\n",
       " [38, 0.053518544377882726],\n",
       " [37, 0.05197120170382203],\n",
       " [27, 0.05036157024793388],\n",
       " [64, 0.04999503453401515],\n",
       " [58, 0.045741282166357033],\n",
       " [26, 0.04261363636363636],\n",
       " [50, 0.04203761042933002],\n",
       " [49, 0.040591810670869755],\n",
       " [59, 0.040116899417475316],\n",
       " [51, 0.03826600419752435],\n",
       " [57, 0.035377892932860144],\n",
       " [48, 0.034968619334897866],\n",
       " [25, 0.03486570247933884],\n",
       " [60, 0.03446076789395608],\n",
       " [45, 0.028412768451822612],\n",
       " [47, 0.027593603913471598],\n",
       " [72, 0.02727001883673553],\n",
       " [24, 0.027117768595041315],\n",
       " [52, 0.02655464320149814],\n",
       " [61, 0.02570588433906775],\n",
       " [54, 0.024966254439662494],\n",
       " [53, 0.02365488399110982],\n",
       " [46, 0.023278511398452523],\n",
       " [23, 0.0193698347107438],\n",
       " [55, 0.01896634522704438],\n",
       " [62, 0.01818001255782369],\n",
       " [63, 0.01818001255782369],\n",
       " [56, 0.013457020977464929],\n",
       " [22, 0.011621900826446279],\n",
       " [21, 0.0038739669421487596],\n",
       " [20, 0],\n",
       " [73, 0],\n",
       " [74, 0]]"
      ]
     },
     "execution_count": 103,
     "metadata": {},
     "output_type": "execute_result"
    }
   ],
   "source": [
    "ou_guess"
   ]
  },
  {
   "cell_type": "code",
   "execution_count": null,
   "metadata": {},
   "outputs": [],
   "source": [
    "# O/U: 40\n",
    "# SF line: -2 \n",
    "# 21-19"
   ]
  }
 ],
 "metadata": {
  "kernelspec": {
   "display_name": "Python 3.10.6 64-bit",
   "language": "python",
   "name": "python3"
  },
  "language_info": {
   "codemirror_mode": {
    "name": "ipython",
    "version": 3
   },
   "file_extension": ".py",
   "mimetype": "text/x-python",
   "name": "python",
   "nbconvert_exporter": "python",
   "pygments_lexer": "ipython3",
   "version": "3.10.6"
  },
  "orig_nbformat": 4,
  "vscode": {
   "interpreter": {
    "hash": "aee8b7b246df8f9039afb4144a1f6fd8d2ca17a180786b69acc140d282b71a49"
   }
  }
 },
 "nbformat": 4,
 "nbformat_minor": 2
}
